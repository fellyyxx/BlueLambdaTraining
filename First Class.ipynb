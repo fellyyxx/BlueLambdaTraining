{
 "cells": [
  {
   "cell_type": "code",
   "execution_count": 1,
   "id": "0b3f1c91",
   "metadata": {},
   "outputs": [],
   "source": [
    "name = 'PYTHON'"
   ]
  },
  {
   "cell_type": "code",
   "execution_count": 2,
   "id": "7d3dfdf5",
   "metadata": {},
   "outputs": [
    {
     "data": {
      "text/plain": [
       "'P'"
      ]
     },
     "execution_count": 2,
     "metadata": {},
     "output_type": "execute_result"
    }
   ],
   "source": [
    "name[0]"
   ]
  },
  {
   "cell_type": "code",
   "execution_count": 3,
   "id": "124924c0",
   "metadata": {},
   "outputs": [
    {
     "data": {
      "text/plain": [
       "'N'"
      ]
     },
     "execution_count": 3,
     "metadata": {},
     "output_type": "execute_result"
    }
   ],
   "source": [
    "name[-1]"
   ]
  },
  {
   "cell_type": "code",
   "execution_count": 4,
   "id": "dc24bcea",
   "metadata": {},
   "outputs": [
    {
     "data": {
      "text/plain": [
       "'H'"
      ]
     },
     "execution_count": 4,
     "metadata": {},
     "output_type": "execute_result"
    }
   ],
   "source": [
    "name[-3]"
   ]
  },
  {
   "cell_type": "code",
   "execution_count": 5,
   "id": "ef056b81",
   "metadata": {},
   "outputs": [],
   "source": [
    "# Slicing \n",
    "# name[start:end:step]"
   ]
  },
  {
   "cell_type": "code",
   "execution_count": 6,
   "id": "d428c0e8",
   "metadata": {},
   "outputs": [
    {
     "data": {
      "text/plain": [
       "'HON'"
      ]
     },
     "execution_count": 6,
     "metadata": {},
     "output_type": "execute_result"
    }
   ],
   "source": [
    "name[3:6]"
   ]
  },
  {
   "cell_type": "code",
   "execution_count": 7,
   "id": "abf513c3",
   "metadata": {},
   "outputs": [],
   "source": [
    "name1 = 'ADARAMOLA OMOLEWA BUKOLA'"
   ]
  },
  {
   "cell_type": "code",
   "execution_count": 8,
   "id": "e5169561",
   "metadata": {},
   "outputs": [
    {
     "data": {
      "text/plain": [
       "' '"
      ]
     },
     "execution_count": 8,
     "metadata": {},
     "output_type": "execute_result"
    }
   ],
   "source": [
    "name1[9]"
   ]
  },
  {
   "cell_type": "code",
   "execution_count": 11,
   "id": "0bd3086d",
   "metadata": {},
   "outputs": [
    {
     "data": {
      "text/plain": [
       "'OOEA'"
      ]
     },
     "execution_count": 11,
     "metadata": {},
     "output_type": "execute_result"
    }
   ],
   "source": [
    "name1[10:17:2]"
   ]
  },
  {
   "cell_type": "code",
   "execution_count": 14,
   "id": "e773bd6b",
   "metadata": {},
   "outputs": [
    {
     "data": {
      "text/plain": [
       "'ADARAMOLA OM'"
      ]
     },
     "execution_count": 14,
     "metadata": {},
     "output_type": "execute_result"
    }
   ],
   "source": [
    "name1[:12]"
   ]
  },
  {
   "cell_type": "code",
   "execution_count": 15,
   "id": "15845269",
   "metadata": {},
   "outputs": [
    {
     "data": {
      "text/plain": [
       "'RAMOLA OMOLEWA BUKOLA'"
      ]
     },
     "execution_count": 15,
     "metadata": {},
     "output_type": "execute_result"
    }
   ],
   "source": [
    "name1[3:]"
   ]
  },
  {
   "cell_type": "code",
   "execution_count": 16,
   "id": "7a2d871e",
   "metadata": {},
   "outputs": [
    {
     "data": {
      "text/plain": [
       "'ALOLAUL'"
      ]
     },
     "execution_count": 16,
     "metadata": {},
     "output_type": "execute_result"
    }
   ],
   "source": [
    "name1[4::3]"
   ]
  },
  {
   "cell_type": "code",
   "execution_count": 17,
   "id": "207c9458",
   "metadata": {},
   "outputs": [],
   "source": [
    "date = '12/02/2022'"
   ]
  },
  {
   "cell_type": "code",
   "execution_count": 18,
   "id": "b0cfa00f",
   "metadata": {},
   "outputs": [
    {
     "data": {
      "text/plain": [
       "'02'"
      ]
     },
     "execution_count": 18,
     "metadata": {},
     "output_type": "execute_result"
    }
   ],
   "source": [
    "date[3:5]"
   ]
  },
  {
   "cell_type": "code",
   "execution_count": 19,
   "id": "ba578ccd",
   "metadata": {},
   "outputs": [
    {
     "data": {
      "text/plain": [
       "2"
      ]
     },
     "execution_count": 19,
     "metadata": {},
     "output_type": "execute_result"
    }
   ],
   "source": [
    "date.count('/')"
   ]
  },
  {
   "cell_type": "code",
   "execution_count": 20,
   "id": "da810cf0",
   "metadata": {},
   "outputs": [
    {
     "data": {
      "text/plain": [
       "5"
      ]
     },
     "execution_count": 20,
     "metadata": {},
     "output_type": "execute_result"
    }
   ],
   "source": [
    "date.count('2')"
   ]
  },
  {
   "cell_type": "code",
   "execution_count": 21,
   "id": "a441fcf3",
   "metadata": {},
   "outputs": [
    {
     "data": {
      "text/plain": [
       "'PYTHON'"
      ]
     },
     "execution_count": 21,
     "metadata": {},
     "output_type": "execute_result"
    }
   ],
   "source": [
    "name"
   ]
  },
  {
   "cell_type": "code",
   "execution_count": 22,
   "id": "fd0bc45c",
   "metadata": {},
   "outputs": [
    {
     "data": {
      "text/plain": [
       "'Python'"
      ]
     },
     "execution_count": 22,
     "metadata": {},
     "output_type": "execute_result"
    }
   ],
   "source": [
    "name.capitalize()"
   ]
  },
  {
   "cell_type": "code",
   "execution_count": 23,
   "id": "fde2bd98",
   "metadata": {},
   "outputs": [
    {
     "data": {
      "text/plain": [
       "'python'"
      ]
     },
     "execution_count": 23,
     "metadata": {},
     "output_type": "execute_result"
    }
   ],
   "source": [
    "name.lower()"
   ]
  },
  {
   "cell_type": "code",
   "execution_count": 24,
   "id": "2855f1c3",
   "metadata": {},
   "outputs": [
    {
     "data": {
      "text/plain": [
       "'PYTHON'"
      ]
     },
     "execution_count": 24,
     "metadata": {},
     "output_type": "execute_result"
    }
   ],
   "source": [
    "name"
   ]
  },
  {
   "cell_type": "code",
   "execution_count": 25,
   "id": "7bc154d9",
   "metadata": {},
   "outputs": [],
   "source": [
    "con = name.lower()"
   ]
  },
  {
   "cell_type": "code",
   "execution_count": 26,
   "id": "3e8402fc",
   "metadata": {},
   "outputs": [
    {
     "data": {
      "text/plain": [
       "'python'"
      ]
     },
     "execution_count": 26,
     "metadata": {},
     "output_type": "execute_result"
    }
   ],
   "source": [
    "con"
   ]
  },
  {
   "cell_type": "code",
   "execution_count": 27,
   "id": "9ce58526",
   "metadata": {},
   "outputs": [
    {
     "data": {
      "text/plain": [
       "'PYTHON'"
      ]
     },
     "execution_count": 27,
     "metadata": {},
     "output_type": "execute_result"
    }
   ],
   "source": [
    "name"
   ]
  },
  {
   "cell_type": "code",
   "execution_count": 28,
   "id": "43286ae4",
   "metadata": {},
   "outputs": [],
   "source": [
    "name = name.lower()"
   ]
  },
  {
   "cell_type": "code",
   "execution_count": 29,
   "id": "9f226aab",
   "metadata": {},
   "outputs": [
    {
     "data": {
      "text/plain": [
       "'python'"
      ]
     },
     "execution_count": 29,
     "metadata": {},
     "output_type": "execute_result"
    }
   ],
   "source": [
    "name"
   ]
  },
  {
   "cell_type": "code",
   "execution_count": 30,
   "id": "ea3eaaa9",
   "metadata": {},
   "outputs": [
    {
     "data": {
      "text/plain": [
       "True"
      ]
     },
     "execution_count": 30,
     "metadata": {},
     "output_type": "execute_result"
    }
   ],
   "source": [
    "name.islower()"
   ]
  },
  {
   "cell_type": "code",
   "execution_count": 31,
   "id": "26837914",
   "metadata": {},
   "outputs": [
    {
     "data": {
      "text/plain": [
       "False"
      ]
     },
     "execution_count": 31,
     "metadata": {},
     "output_type": "execute_result"
    }
   ],
   "source": [
    "name.isupper()"
   ]
  },
  {
   "cell_type": "code",
   "execution_count": 32,
   "id": "0b9945a6",
   "metadata": {},
   "outputs": [
    {
     "data": {
      "text/plain": [
       "0"
      ]
     },
     "execution_count": 32,
     "metadata": {},
     "output_type": "execute_result"
    }
   ],
   "source": [
    "name.find('p')"
   ]
  },
  {
   "cell_type": "code",
   "execution_count": 33,
   "id": "0167bd13",
   "metadata": {},
   "outputs": [
    {
     "data": {
      "text/plain": [
       "-1"
      ]
     },
     "execution_count": 33,
     "metadata": {},
     "output_type": "execute_result"
    }
   ],
   "source": [
    "name.find('P')"
   ]
  },
  {
   "cell_type": "code",
   "execution_count": 34,
   "id": "bca38419",
   "metadata": {},
   "outputs": [
    {
     "ename": "NameError",
     "evalue": "name 'Name' is not defined",
     "output_type": "error",
     "traceback": [
      "\u001b[1;31m---------------------------------------------------------------------------\u001b[0m",
      "\u001b[1;31mNameError\u001b[0m                                 Traceback (most recent call last)",
      "\u001b[1;32mC:\\Users\\OMOLEW~1\\AppData\\Local\\Temp/ipykernel_23952/2823467840.py\u001b[0m in \u001b[0;36m<module>\u001b[1;34m\u001b[0m\n\u001b[1;32m----> 1\u001b[1;33m \u001b[0mName\u001b[0m\u001b[1;33m\u001b[0m\u001b[1;33m\u001b[0m\u001b[0m\n\u001b[0m",
      "\u001b[1;31mNameError\u001b[0m: name 'Name' is not defined"
     ]
    }
   ],
   "source": [
    "Name"
   ]
  },
  {
   "cell_type": "code",
   "execution_count": 36,
   "id": "94f64cd8",
   "metadata": {},
   "outputs": [],
   "source": [
    "DATE = '02/23/222'"
   ]
  },
  {
   "cell_type": "code",
   "execution_count": 37,
   "id": "9b40bb89",
   "metadata": {},
   "outputs": [
    {
     "data": {
      "text/plain": [
       "'02/23/222'"
      ]
     },
     "execution_count": 37,
     "metadata": {},
     "output_type": "execute_result"
    }
   ],
   "source": [
    "DATE"
   ]
  },
  {
   "cell_type": "code",
   "execution_count": 38,
   "id": "d48559a5",
   "metadata": {},
   "outputs": [
    {
     "data": {
      "text/plain": [
       "'12/02/2022'"
      ]
     },
     "execution_count": 38,
     "metadata": {},
     "output_type": "execute_result"
    }
   ],
   "source": [
    "date"
   ]
  },
  {
   "cell_type": "code",
   "execution_count": 39,
   "id": "55bf3c88",
   "metadata": {},
   "outputs": [
    {
     "data": {
      "text/plain": [
       "['12', '02', '2022']"
      ]
     },
     "execution_count": 39,
     "metadata": {},
     "output_type": "execute_result"
    }
   ],
   "source": [
    "date.split('/')"
   ]
  },
  {
   "cell_type": "code",
   "execution_count": 40,
   "id": "6209fe13",
   "metadata": {},
   "outputs": [
    {
     "data": {
      "text/plain": [
       "['12/', '2/2', '22']"
      ]
     },
     "execution_count": 40,
     "metadata": {},
     "output_type": "execute_result"
    }
   ],
   "source": [
    "date.split('0')"
   ]
  },
  {
   "cell_type": "code",
   "execution_count": 41,
   "id": "e0e9858b",
   "metadata": {},
   "outputs": [
    {
     "data": {
      "text/plain": [
       "'ADARAMOLA OMOLEWA BUKOLA'"
      ]
     },
     "execution_count": 41,
     "metadata": {},
     "output_type": "execute_result"
    }
   ],
   "source": [
    "name1"
   ]
  },
  {
   "cell_type": "code",
   "execution_count": 42,
   "id": "0fc12b3e",
   "metadata": {},
   "outputs": [
    {
     "data": {
      "text/plain": [
       "['ADARAMOLA', 'OMOLEWA', 'BUKOLA']"
      ]
     },
     "execution_count": 42,
     "metadata": {},
     "output_type": "execute_result"
    }
   ],
   "source": [
    "name1.split()"
   ]
  },
  {
   "cell_type": "code",
   "execution_count": 43,
   "id": "e4669386",
   "metadata": {},
   "outputs": [
    {
     "data": {
      "text/plain": [
       "'adaramola omolewa bukola'"
      ]
     },
     "execution_count": 43,
     "metadata": {},
     "output_type": "execute_result"
    }
   ],
   "source": [
    "name1.swapcase()"
   ]
  },
  {
   "cell_type": "code",
   "execution_count": 44,
   "id": "d13ac2d6",
   "metadata": {},
   "outputs": [],
   "source": [
    "name = 'OmoLewa'"
   ]
  },
  {
   "cell_type": "code",
   "execution_count": 45,
   "id": "365417ea",
   "metadata": {},
   "outputs": [
    {
     "data": {
      "text/plain": [
       "'oMOlEWA'"
      ]
     },
     "execution_count": 45,
     "metadata": {},
     "output_type": "execute_result"
    }
   ],
   "source": [
    "name.swapcase()"
   ]
  },
  {
   "cell_type": "code",
   "execution_count": 46,
   "id": "60490170",
   "metadata": {},
   "outputs": [],
   "source": [
    "# concatenation"
   ]
  },
  {
   "cell_type": "code",
   "execution_count": 47,
   "id": "8794235d",
   "metadata": {},
   "outputs": [],
   "source": [
    "name1 = 'Omolewa'\n",
    "name2 = 'Bukola'"
   ]
  },
  {
   "cell_type": "code",
   "execution_count": 48,
   "id": "f317bd22",
   "metadata": {},
   "outputs": [
    {
     "data": {
      "text/plain": [
       "'OmolewaBukola'"
      ]
     },
     "execution_count": 48,
     "metadata": {},
     "output_type": "execute_result"
    }
   ],
   "source": [
    "name1 + name2"
   ]
  },
  {
   "cell_type": "code",
   "execution_count": 49,
   "id": "3365b767",
   "metadata": {},
   "outputs": [
    {
     "data": {
      "text/plain": [
       "5"
      ]
     },
     "execution_count": 49,
     "metadata": {},
     "output_type": "execute_result"
    }
   ],
   "source": [
    "2 + 3"
   ]
  },
  {
   "cell_type": "code",
   "execution_count": 50,
   "id": "8e5567f6",
   "metadata": {},
   "outputs": [
    {
     "data": {
      "text/plain": [
       "'23'"
      ]
     },
     "execution_count": 50,
     "metadata": {},
     "output_type": "execute_result"
    }
   ],
   "source": [
    "'2' + '3'"
   ]
  },
  {
   "cell_type": "code",
   "execution_count": 51,
   "id": "10dba721",
   "metadata": {},
   "outputs": [
    {
     "data": {
      "text/plain": [
       "'2222222222'"
      ]
     },
     "execution_count": 51,
     "metadata": {},
     "output_type": "execute_result"
    }
   ],
   "source": [
    "'2' * 10"
   ]
  },
  {
   "cell_type": "code",
   "execution_count": 52,
   "id": "ec9fc500",
   "metadata": {},
   "outputs": [
    {
     "ename": "TypeError",
     "evalue": "can only concatenate str (not \"int\") to str",
     "output_type": "error",
     "traceback": [
      "\u001b[1;31m---------------------------------------------------------------------------\u001b[0m",
      "\u001b[1;31mTypeError\u001b[0m                                 Traceback (most recent call last)",
      "\u001b[1;32mC:\\Users\\OMOLEW~1\\AppData\\Local\\Temp/ipykernel_23952/3387506714.py\u001b[0m in \u001b[0;36m<module>\u001b[1;34m\u001b[0m\n\u001b[1;32m----> 1\u001b[1;33m \u001b[1;34m'2'\u001b[0m \u001b[1;33m+\u001b[0m \u001b[1;36m3\u001b[0m\u001b[1;33m\u001b[0m\u001b[1;33m\u001b[0m\u001b[0m\n\u001b[0m",
      "\u001b[1;31mTypeError\u001b[0m: can only concatenate str (not \"int\") to str"
     ]
    }
   ],
   "source": [
    "'2' + 3"
   ]
  },
  {
   "cell_type": "code",
   "execution_count": 55,
   "id": "dc887da9",
   "metadata": {},
   "outputs": [
    {
     "data": {
      "text/plain": [
       "str"
      ]
     },
     "execution_count": 55,
     "metadata": {},
     "output_type": "execute_result"
    }
   ],
   "source": [
    "type(name)"
   ]
  },
  {
   "cell_type": "code",
   "execution_count": 53,
   "id": "8880dc41",
   "metadata": {},
   "outputs": [
    {
     "data": {
      "text/plain": [
       "'Omolewa Bukola'"
      ]
     },
     "execution_count": 53,
     "metadata": {},
     "output_type": "execute_result"
    }
   ],
   "source": [
    "name1 + ' ' + name2"
   ]
  },
  {
   "cell_type": "code",
   "execution_count": 54,
   "id": "ef6d0cda",
   "metadata": {},
   "outputs": [],
   "source": [
    "# list"
   ]
  },
  {
   "cell_type": "code",
   "execution_count": 56,
   "id": "cffdd91e",
   "metadata": {},
   "outputs": [],
   "source": [
    "lis = []"
   ]
  },
  {
   "cell_type": "code",
   "execution_count": 57,
   "id": "5a51ec9a",
   "metadata": {},
   "outputs": [
    {
     "data": {
      "text/plain": [
       "list"
      ]
     },
     "execution_count": 57,
     "metadata": {},
     "output_type": "execute_result"
    }
   ],
   "source": [
    "type(lis)"
   ]
  },
  {
   "cell_type": "code",
   "execution_count": 58,
   "id": "c6a9eb84",
   "metadata": {},
   "outputs": [],
   "source": [
    "lis.append('Orange')"
   ]
  },
  {
   "cell_type": "code",
   "execution_count": 59,
   "id": "6ad8289e",
   "metadata": {},
   "outputs": [
    {
     "data": {
      "text/plain": [
       "['Orange']"
      ]
     },
     "execution_count": 59,
     "metadata": {},
     "output_type": "execute_result"
    }
   ],
   "source": [
    "lis"
   ]
  },
  {
   "cell_type": "code",
   "execution_count": 60,
   "id": "cd656f02",
   "metadata": {},
   "outputs": [],
   "source": [
    "lis.append('yam')"
   ]
  },
  {
   "cell_type": "code",
   "execution_count": 61,
   "id": "c4d1aa8f",
   "metadata": {},
   "outputs": [],
   "source": [
    "lis.append('beans')"
   ]
  },
  {
   "cell_type": "code",
   "execution_count": 62,
   "id": "307bda86",
   "metadata": {},
   "outputs": [
    {
     "data": {
      "text/plain": [
       "['Orange', 'yam', 'beans']"
      ]
     },
     "execution_count": 62,
     "metadata": {},
     "output_type": "execute_result"
    }
   ],
   "source": [
    "lis"
   ]
  },
  {
   "cell_type": "code",
   "execution_count": 63,
   "id": "4b803169",
   "metadata": {},
   "outputs": [],
   "source": [
    "lis.append(1000)"
   ]
  },
  {
   "cell_type": "code",
   "execution_count": 64,
   "id": "c98af16e",
   "metadata": {},
   "outputs": [
    {
     "data": {
      "text/plain": [
       "['Orange', 'yam', 'beans', 1000]"
      ]
     },
     "execution_count": 64,
     "metadata": {},
     "output_type": "execute_result"
    }
   ],
   "source": [
    "lis"
   ]
  },
  {
   "cell_type": "code",
   "execution_count": 65,
   "id": "52611bdf",
   "metadata": {},
   "outputs": [
    {
     "ename": "TypeError",
     "evalue": "'<' not supported between instances of 'int' and 'str'",
     "output_type": "error",
     "traceback": [
      "\u001b[1;31m---------------------------------------------------------------------------\u001b[0m",
      "\u001b[1;31mTypeError\u001b[0m                                 Traceback (most recent call last)",
      "\u001b[1;32mC:\\Users\\OMOLEW~1\\AppData\\Local\\Temp/ipykernel_23952/2667314805.py\u001b[0m in \u001b[0;36m<module>\u001b[1;34m\u001b[0m\n\u001b[1;32m----> 1\u001b[1;33m \u001b[0msorted\u001b[0m\u001b[1;33m(\u001b[0m\u001b[0mlis\u001b[0m\u001b[1;33m)\u001b[0m\u001b[1;33m\u001b[0m\u001b[1;33m\u001b[0m\u001b[0m\n\u001b[0m",
      "\u001b[1;31mTypeError\u001b[0m: '<' not supported between instances of 'int' and 'str'"
     ]
    }
   ],
   "source": [
    "sorted(lis)"
   ]
  },
  {
   "cell_type": "code",
   "execution_count": 66,
   "id": "8ddc0853",
   "metadata": {},
   "outputs": [
    {
     "data": {
      "text/plain": [
       "1000"
      ]
     },
     "execution_count": 66,
     "metadata": {},
     "output_type": "execute_result"
    }
   ],
   "source": [
    "lis.pop(3)"
   ]
  },
  {
   "cell_type": "code",
   "execution_count": 67,
   "id": "0c74c146",
   "metadata": {},
   "outputs": [
    {
     "data": {
      "text/plain": [
       "['Orange', 'yam', 'beans']"
      ]
     },
     "execution_count": 67,
     "metadata": {},
     "output_type": "execute_result"
    }
   ],
   "source": [
    "lis"
   ]
  },
  {
   "cell_type": "code",
   "execution_count": 68,
   "id": "bd97da84",
   "metadata": {},
   "outputs": [],
   "source": [
    "lis.remove('yam')"
   ]
  },
  {
   "cell_type": "code",
   "execution_count": 69,
   "id": "09336077",
   "metadata": {},
   "outputs": [
    {
     "data": {
      "text/plain": [
       "['Orange', 'beans']"
      ]
     },
     "execution_count": 69,
     "metadata": {},
     "output_type": "execute_result"
    }
   ],
   "source": [
    "lis"
   ]
  },
  {
   "cell_type": "code",
   "execution_count": 70,
   "id": "d872fee7",
   "metadata": {},
   "outputs": [
    {
     "data": {
      "text/plain": [
       "['Orange', 'beans']"
      ]
     },
     "execution_count": 70,
     "metadata": {},
     "output_type": "execute_result"
    }
   ],
   "source": [
    "sorted(lis)"
   ]
  },
  {
   "cell_type": "code",
   "execution_count": 71,
   "id": "4b3ea3c6",
   "metadata": {},
   "outputs": [],
   "source": [
    "lis = ['omolewa', 'bukola']"
   ]
  },
  {
   "cell_type": "code",
   "execution_count": 72,
   "id": "14e59472",
   "metadata": {},
   "outputs": [
    {
     "data": {
      "text/plain": [
       "['bukola', 'omolewa']"
      ]
     },
     "execution_count": 72,
     "metadata": {},
     "output_type": "execute_result"
    }
   ],
   "source": [
    "sorted(lis)"
   ]
  },
  {
   "cell_type": "code",
   "execution_count": 73,
   "id": "703a3351",
   "metadata": {},
   "outputs": [],
   "source": [
    "lis.reverse()"
   ]
  },
  {
   "cell_type": "code",
   "execution_count": 74,
   "id": "f4f05462",
   "metadata": {},
   "outputs": [
    {
     "data": {
      "text/plain": [
       "['bukola', 'omolewa']"
      ]
     },
     "execution_count": 74,
     "metadata": {},
     "output_type": "execute_result"
    }
   ],
   "source": [
    "lis"
   ]
  },
  {
   "cell_type": "code",
   "execution_count": 75,
   "id": "09ec7bac",
   "metadata": {},
   "outputs": [],
   "source": [
    "lis.append('adaramola')"
   ]
  },
  {
   "cell_type": "code",
   "execution_count": 76,
   "id": "353b1757",
   "metadata": {},
   "outputs": [
    {
     "data": {
      "text/plain": [
       "['bukola', 'omolewa', 'adaramola']"
      ]
     },
     "execution_count": 76,
     "metadata": {},
     "output_type": "execute_result"
    }
   ],
   "source": [
    "lis"
   ]
  },
  {
   "cell_type": "code",
   "execution_count": 82,
   "id": "a38b3316",
   "metadata": {},
   "outputs": [
    {
     "ename": "TypeError",
     "evalue": "'str' object cannot be interpreted as an integer",
     "output_type": "error",
     "traceback": [
      "\u001b[1;31m---------------------------------------------------------------------------\u001b[0m",
      "\u001b[1;31mTypeError\u001b[0m                                 Traceback (most recent call last)",
      "\u001b[1;32mC:\\Users\\OMOLEW~1\\AppData\\Local\\Temp/ipykernel_23952/1532400340.py\u001b[0m in \u001b[0;36m<module>\u001b[1;34m\u001b[0m\n\u001b[1;32m----> 1\u001b[1;33m \u001b[0mlis\u001b[0m\u001b[1;33m.\u001b[0m\u001b[0minsert\u001b[0m\u001b[1;33m(\u001b[0m\u001b[1;34m'Felix'\u001b[0m\u001b[1;33m,\u001b[0m \u001b[1;36m2\u001b[0m\u001b[1;33m)\u001b[0m\u001b[1;33m\u001b[0m\u001b[1;33m\u001b[0m\u001b[0m\n\u001b[0m",
      "\u001b[1;31mTypeError\u001b[0m: 'str' object cannot be interpreted as an integer"
     ]
    }
   ],
   "source": [
    "lis.insert('Felix', 2)"
   ]
  },
  {
   "cell_type": "code",
   "execution_count": 78,
   "id": "a781736b",
   "metadata": {},
   "outputs": [
    {
     "data": {
      "text/plain": [
       "['bukola', 'Felix', 'omolewa', 'adaramola']"
      ]
     },
     "execution_count": 78,
     "metadata": {},
     "output_type": "execute_result"
    }
   ],
   "source": [
    "lis"
   ]
  },
  {
   "cell_type": "code",
   "execution_count": 79,
   "id": "cf229601",
   "metadata": {},
   "outputs": [],
   "source": [
    "lis.append([1, 2, 3])"
   ]
  },
  {
   "cell_type": "code",
   "execution_count": 80,
   "id": "f0b27e30",
   "metadata": {},
   "outputs": [
    {
     "data": {
      "text/plain": [
       "['bukola', 'Felix', 'omolewa', 'adaramola', [1, 2, 3]]"
      ]
     },
     "execution_count": 80,
     "metadata": {},
     "output_type": "execute_result"
    }
   ],
   "source": [
    "lis"
   ]
  },
  {
   "cell_type": "code",
   "execution_count": 86,
   "id": "ccd40bc4",
   "metadata": {},
   "outputs": [],
   "source": [
    "lis1 = [1, 2, 3, 4]\n",
    "lis2 = [5, 6, 7, 8]"
   ]
  },
  {
   "cell_type": "code",
   "execution_count": 87,
   "id": "63dfe693",
   "metadata": {},
   "outputs": [],
   "source": [
    "lis1.append(lis2)"
   ]
  },
  {
   "cell_type": "code",
   "execution_count": 88,
   "id": "70a4b10d",
   "metadata": {},
   "outputs": [
    {
     "data": {
      "text/plain": [
       "[1, 2, 3, 4, [5, 6, 7, 8]]"
      ]
     },
     "execution_count": 88,
     "metadata": {},
     "output_type": "execute_result"
    }
   ],
   "source": [
    "lis1"
   ]
  },
  {
   "cell_type": "code",
   "execution_count": 89,
   "id": "0934c62b",
   "metadata": {},
   "outputs": [],
   "source": [
    "lis1 = [1, 2, 3, 4]\n",
    "lis2 = [5, 6, 7, 8]"
   ]
  },
  {
   "cell_type": "code",
   "execution_count": 90,
   "id": "f7c99259",
   "metadata": {},
   "outputs": [],
   "source": [
    "lis1.extend(lis2)"
   ]
  },
  {
   "cell_type": "code",
   "execution_count": 91,
   "id": "54a7844b",
   "metadata": {},
   "outputs": [
    {
     "data": {
      "text/plain": [
       "[1, 2, 3, 4, 5, 6, 7, 8]"
      ]
     },
     "execution_count": 91,
     "metadata": {},
     "output_type": "execute_result"
    }
   ],
   "source": [
    "lis1"
   ]
  },
  {
   "cell_type": "code",
   "execution_count": 92,
   "id": "374ce672",
   "metadata": {},
   "outputs": [],
   "source": [
    "lis1 = ['bukola', 'Felix', 'omolewa', 'adaramola']\n",
    "lis2 = ['david', 'shola']"
   ]
  },
  {
   "cell_type": "code",
   "execution_count": 93,
   "id": "cc544252",
   "metadata": {},
   "outputs": [],
   "source": [
    "lis1.extend(lis2)"
   ]
  },
  {
   "cell_type": "code",
   "execution_count": 94,
   "id": "d3d9a2d6",
   "metadata": {},
   "outputs": [
    {
     "data": {
      "text/plain": [
       "['bukola', 'Felix', 'omolewa', 'adaramola', 'david', 'shola']"
      ]
     },
     "execution_count": 94,
     "metadata": {},
     "output_type": "execute_result"
    }
   ],
   "source": [
    "lis1"
   ]
  },
  {
   "cell_type": "code",
   "execution_count": 95,
   "id": "13aad357",
   "metadata": {},
   "outputs": [
    {
     "data": {
      "text/plain": [
       "'omolewa'"
      ]
     },
     "execution_count": 95,
     "metadata": {},
     "output_type": "execute_result"
    }
   ],
   "source": [
    "lis1[2]"
   ]
  },
  {
   "cell_type": "code",
   "execution_count": 96,
   "id": "1b7e0e50",
   "metadata": {},
   "outputs": [
    {
     "data": {
      "text/plain": [
       "['Felix', 'omolewa', 'adaramola', 'david']"
      ]
     },
     "execution_count": 96,
     "metadata": {},
     "output_type": "execute_result"
    }
   ],
   "source": [
    "lis1[1:5]"
   ]
  },
  {
   "cell_type": "code",
   "execution_count": 97,
   "id": "44e9da81",
   "metadata": {},
   "outputs": [
    {
     "data": {
      "text/plain": [
       "['bukola', 'omolewa', 'david']"
      ]
     },
     "execution_count": 97,
     "metadata": {},
     "output_type": "execute_result"
    }
   ],
   "source": [
    "lis1[::2]"
   ]
  },
  {
   "cell_type": "code",
   "execution_count": 98,
   "id": "e4123d02",
   "metadata": {},
   "outputs": [
    {
     "data": {
      "text/plain": [
       "'shola'"
      ]
     },
     "execution_count": 98,
     "metadata": {},
     "output_type": "execute_result"
    }
   ],
   "source": [
    "lis1[-1]"
   ]
  },
  {
   "cell_type": "code",
   "execution_count": 99,
   "id": "464ba9d8",
   "metadata": {},
   "outputs": [
    {
     "data": {
      "text/plain": [
       "['shola', 'david', 'adaramola', 'omolewa', 'Felix', 'bukola']"
      ]
     },
     "execution_count": 99,
     "metadata": {},
     "output_type": "execute_result"
    }
   ],
   "source": [
    "lis1[::-1]"
   ]
  },
  {
   "cell_type": "code",
   "execution_count": 100,
   "id": "798d8e00",
   "metadata": {},
   "outputs": [],
   "source": [
    "name = 'felix'"
   ]
  },
  {
   "cell_type": "code",
   "execution_count": 101,
   "id": "1fa2f572",
   "metadata": {},
   "outputs": [
    {
     "data": {
      "text/plain": [
       "'xilef'"
      ]
     },
     "execution_count": 101,
     "metadata": {},
     "output_type": "execute_result"
    }
   ],
   "source": [
    "name[::-1]"
   ]
  },
  {
   "cell_type": "code",
   "execution_count": 102,
   "id": "96daf13f",
   "metadata": {},
   "outputs": [
    {
     "data": {
      "text/plain": [
       "True"
      ]
     },
     "execution_count": 102,
     "metadata": {},
     "output_type": "execute_result"
    }
   ],
   "source": [
    "2 == 2"
   ]
  },
  {
   "cell_type": "code",
   "execution_count": 103,
   "id": "0fa8061c",
   "metadata": {},
   "outputs": [
    {
     "data": {
      "text/plain": [
       "False"
      ]
     },
     "execution_count": 103,
     "metadata": {},
     "output_type": "execute_result"
    }
   ],
   "source": [
    "2 != 2"
   ]
  },
  {
   "cell_type": "code",
   "execution_count": 104,
   "id": "88c2c40d",
   "metadata": {},
   "outputs": [],
   "source": [
    "name = 'dad'"
   ]
  },
  {
   "cell_type": "code",
   "execution_count": 105,
   "id": "8c73a08e",
   "metadata": {},
   "outputs": [
    {
     "data": {
      "text/plain": [
       "True"
      ]
     },
     "execution_count": 105,
     "metadata": {},
     "output_type": "execute_result"
    }
   ],
   "source": [
    "name[::-1] == name"
   ]
  },
  {
   "cell_type": "code",
   "execution_count": 106,
   "id": "95e78640",
   "metadata": {},
   "outputs": [],
   "source": [
    "name = 'felix'"
   ]
  },
  {
   "cell_type": "code",
   "execution_count": 107,
   "id": "dada0270",
   "metadata": {},
   "outputs": [
    {
     "data": {
      "text/plain": [
       "False"
      ]
     },
     "execution_count": 107,
     "metadata": {},
     "output_type": "execute_result"
    }
   ],
   "source": [
    "name[::-1] == name"
   ]
  },
  {
   "cell_type": "code",
   "execution_count": 108,
   "id": "ea9a13bf",
   "metadata": {},
   "outputs": [],
   "source": [
    "lis1 = ['bukola', 'Felix', 'omolewa', 'adaramola']\n",
    "lis2 = ['david', 'shola']"
   ]
  },
  {
   "cell_type": "code",
   "execution_count": 109,
   "id": "a61eea9d",
   "metadata": {},
   "outputs": [
    {
     "data": {
      "text/plain": [
       "['bukola', 'Felix', 'omolewa', 'adaramola', 'david', 'shola']"
      ]
     },
     "execution_count": 109,
     "metadata": {},
     "output_type": "execute_result"
    }
   ],
   "source": [
    "lis1 + lis2"
   ]
  },
  {
   "cell_type": "code",
   "execution_count": 110,
   "id": "7eb2aa98",
   "metadata": {},
   "outputs": [
    {
     "data": {
      "text/plain": [
       "['bukola',\n",
       " 'Felix',\n",
       " 'omolewa',\n",
       " 'adaramola',\n",
       " 'bukola',\n",
       " 'Felix',\n",
       " 'omolewa',\n",
       " 'adaramola']"
      ]
     },
     "execution_count": 110,
     "metadata": {},
     "output_type": "execute_result"
    }
   ],
   "source": [
    "lis1 * 2"
   ]
  },
  {
   "cell_type": "code",
   "execution_count": 111,
   "id": "68f1e732",
   "metadata": {},
   "outputs": [],
   "source": [
    "# dictionary: key value pair"
   ]
  },
  {
   "cell_type": "code",
   "execution_count": 112,
   "id": "ec32b46e",
   "metadata": {},
   "outputs": [],
   "source": [
    "dic = {}"
   ]
  },
  {
   "cell_type": "code",
   "execution_count": 113,
   "id": "ff73d5a6",
   "metadata": {},
   "outputs": [
    {
     "data": {
      "text/plain": [
       "dict"
      ]
     },
     "execution_count": 113,
     "metadata": {},
     "output_type": "execute_result"
    }
   ],
   "source": [
    "type(dic)"
   ]
  },
  {
   "cell_type": "code",
   "execution_count": 114,
   "id": "d5a878ce",
   "metadata": {},
   "outputs": [],
   "source": [
    "dic = {'Nigeria': 'Abuja', 'USA': 'DC', 'Canada': 'Toronto'}"
   ]
  },
  {
   "cell_type": "code",
   "execution_count": 115,
   "id": "47bbe5ef",
   "metadata": {},
   "outputs": [
    {
     "data": {
      "text/plain": [
       "dict_keys(['Nigeria', 'USA', 'Canada'])"
      ]
     },
     "execution_count": 115,
     "metadata": {},
     "output_type": "execute_result"
    }
   ],
   "source": [
    "dic.keys()"
   ]
  },
  {
   "cell_type": "code",
   "execution_count": 116,
   "id": "8d437127",
   "metadata": {},
   "outputs": [
    {
     "data": {
      "text/plain": [
       "dict_values(['Abuja', 'DC', 'Toronto'])"
      ]
     },
     "execution_count": 116,
     "metadata": {},
     "output_type": "execute_result"
    }
   ],
   "source": [
    "dic.values()"
   ]
  },
  {
   "cell_type": "code",
   "execution_count": 117,
   "id": "78fd047b",
   "metadata": {},
   "outputs": [],
   "source": [
    "# cast"
   ]
  },
  {
   "cell_type": "code",
   "execution_count": 118,
   "id": "bc4c3d35",
   "metadata": {},
   "outputs": [],
   "source": [
    "num = '23'"
   ]
  },
  {
   "cell_type": "code",
   "execution_count": 119,
   "id": "f6a3f54a",
   "metadata": {},
   "outputs": [
    {
     "data": {
      "text/plain": [
       "23"
      ]
     },
     "execution_count": 119,
     "metadata": {},
     "output_type": "execute_result"
    }
   ],
   "source": [
    "int(num)"
   ]
  },
  {
   "cell_type": "code",
   "execution_count": 120,
   "id": "aee251bf",
   "metadata": {},
   "outputs": [],
   "source": [
    "num = 10000"
   ]
  },
  {
   "cell_type": "code",
   "execution_count": 121,
   "id": "c5bd6d85",
   "metadata": {},
   "outputs": [
    {
     "data": {
      "text/plain": [
       "'10000'"
      ]
     },
     "execution_count": 121,
     "metadata": {},
     "output_type": "execute_result"
    }
   ],
   "source": [
    "str(num)"
   ]
  },
  {
   "cell_type": "code",
   "execution_count": 122,
   "id": "41ad671c",
   "metadata": {},
   "outputs": [
    {
     "data": {
      "text/plain": [
       "['Nigeria', 'USA', 'Canada']"
      ]
     },
     "execution_count": 122,
     "metadata": {},
     "output_type": "execute_result"
    }
   ],
   "source": [
    "list(dic.keys())"
   ]
  },
  {
   "cell_type": "code",
   "execution_count": 123,
   "id": "64e5e12f",
   "metadata": {},
   "outputs": [
    {
     "data": {
      "text/plain": [
       "'USA'"
      ]
     },
     "execution_count": 123,
     "metadata": {},
     "output_type": "execute_result"
    }
   ],
   "source": [
    "list(dic.keys())[1]"
   ]
  },
  {
   "cell_type": "code",
   "execution_count": 124,
   "id": "6a44c140",
   "metadata": {},
   "outputs": [
    {
     "data": {
      "text/plain": [
       "{'Nigeria': 'Abuja', 'USA': 'DC', 'Canada': 'Toronto'}"
      ]
     },
     "execution_count": 124,
     "metadata": {},
     "output_type": "execute_result"
    }
   ],
   "source": [
    "dic"
   ]
  },
  {
   "cell_type": "code",
   "execution_count": 125,
   "id": "77de2a4b",
   "metadata": {},
   "outputs": [],
   "source": [
    "dic['Cameroun'] = 'Yaounde'"
   ]
  },
  {
   "cell_type": "code",
   "execution_count": 126,
   "id": "e252e8f4",
   "metadata": {},
   "outputs": [
    {
     "data": {
      "text/plain": [
       "{'Nigeria': 'Abuja', 'USA': 'DC', 'Canada': 'Toronto', 'Cameroun': 'Yaounde'}"
      ]
     },
     "execution_count": 126,
     "metadata": {},
     "output_type": "execute_result"
    }
   ],
   "source": [
    "dic"
   ]
  },
  {
   "cell_type": "code",
   "execution_count": 127,
   "id": "41808b3c",
   "metadata": {},
   "outputs": [],
   "source": [
    "dic['Nigeria'] = 'Lagos'"
   ]
  },
  {
   "cell_type": "code",
   "execution_count": 128,
   "id": "6e591a49",
   "metadata": {},
   "outputs": [
    {
     "data": {
      "text/plain": [
       "{'Nigeria': 'Lagos', 'USA': 'DC', 'Canada': 'Toronto', 'Cameroun': 'Yaounde'}"
      ]
     },
     "execution_count": 128,
     "metadata": {},
     "output_type": "execute_result"
    }
   ],
   "source": [
    "dic"
   ]
  },
  {
   "cell_type": "code",
   "execution_count": 129,
   "id": "f3bfdacd",
   "metadata": {},
   "outputs": [],
   "source": [
    "countries = {'USA': {'GA': 'Atl', 'NY': 'Alb', 'NC': 'Railey'}, 'Nigeria': {'Lagos': 'Ikeja', 'Oyo': 'Ibadan'}}"
   ]
  },
  {
   "cell_type": "code",
   "execution_count": 130,
   "id": "5033a04c",
   "metadata": {},
   "outputs": [
    {
     "data": {
      "text/plain": [
       "dict_values([{'GA': 'Atl', 'NY': 'Alb', 'NC': 'Railey'}, {'Lagos': 'Ikeja', 'Oyo': 'Ibadan'}])"
      ]
     },
     "execution_count": 130,
     "metadata": {},
     "output_type": "execute_result"
    }
   ],
   "source": [
    "countries.values()"
   ]
  },
  {
   "cell_type": "code",
   "execution_count": 131,
   "id": "92df2afd",
   "metadata": {},
   "outputs": [
    {
     "data": {
      "text/plain": [
       "dict"
      ]
     },
     "execution_count": 131,
     "metadata": {},
     "output_type": "execute_result"
    }
   ],
   "source": [
    "type(countries)"
   ]
  },
  {
   "cell_type": "code",
   "execution_count": 132,
   "id": "1ac093ea",
   "metadata": {},
   "outputs": [
    {
     "data": {
      "text/plain": [
       "dict_keys(['USA', 'Nigeria'])"
      ]
     },
     "execution_count": 132,
     "metadata": {},
     "output_type": "execute_result"
    }
   ],
   "source": [
    "countries.keys()"
   ]
  },
  {
   "cell_type": "code",
   "execution_count": 133,
   "id": "8a603c9f",
   "metadata": {},
   "outputs": [
    {
     "data": {
      "text/plain": [
       "dict_values([{'GA': 'Atl', 'NY': 'Alb', 'NC': 'Railey'}, {'Lagos': 'Ikeja', 'Oyo': 'Ibadan'}])"
      ]
     },
     "execution_count": 133,
     "metadata": {},
     "output_type": "execute_result"
    }
   ],
   "source": [
    "countries.values()"
   ]
  },
  {
   "cell_type": "code",
   "execution_count": 134,
   "id": "4c89812c",
   "metadata": {
    "scrolled": true
   },
   "outputs": [
    {
     "data": {
      "text/plain": [
       "[{'GA': 'Atl', 'NY': 'Alb', 'NC': 'Railey'},\n",
       " {'Lagos': 'Ikeja', 'Oyo': 'Ibadan'}]"
      ]
     },
     "execution_count": 134,
     "metadata": {},
     "output_type": "execute_result"
    }
   ],
   "source": [
    "list(countries.values())"
   ]
  },
  {
   "cell_type": "code",
   "execution_count": 137,
   "id": "256354a6",
   "metadata": {},
   "outputs": [
    {
     "data": {
      "text/plain": [
       "2"
      ]
     },
     "execution_count": 137,
     "metadata": {},
     "output_type": "execute_result"
    }
   ],
   "source": [
    "len(list(countries.values()))"
   ]
  },
  {
   "cell_type": "code",
   "execution_count": 139,
   "id": "6d434dcf",
   "metadata": {},
   "outputs": [
    {
     "data": {
      "text/plain": [
       "{'Lagos': 'Ikeja', 'Oyo': 'Ibadan'}"
      ]
     },
     "execution_count": 139,
     "metadata": {},
     "output_type": "execute_result"
    }
   ],
   "source": [
    "list(countries.values())[1]"
   ]
  },
  {
   "cell_type": "code",
   "execution_count": 141,
   "id": "1c460e8a",
   "metadata": {},
   "outputs": [
    {
     "data": {
      "text/plain": [
       "dict_values(['Ikeja', 'Ibadan'])"
      ]
     },
     "execution_count": 141,
     "metadata": {},
     "output_type": "execute_result"
    }
   ],
   "source": [
    "list(countries.values())[1].values()"
   ]
  },
  {
   "cell_type": "code",
   "execution_count": 143,
   "id": "d055137b",
   "metadata": {},
   "outputs": [
    {
     "data": {
      "text/plain": [
       "'Ibadan'"
      ]
     },
     "execution_count": 143,
     "metadata": {},
     "output_type": "execute_result"
    }
   ],
   "source": [
    "list(list(countries.values())[1].values())[1]"
   ]
  },
  {
   "cell_type": "code",
   "execution_count": 144,
   "id": "c528e73b",
   "metadata": {},
   "outputs": [
    {
     "data": {
      "text/plain": [
       "'Ibadan'"
      ]
     },
     "execution_count": 144,
     "metadata": {},
     "output_type": "execute_result"
    }
   ],
   "source": [
    "list(countries.values())[1]['Oyo']"
   ]
  },
  {
   "cell_type": "code",
   "execution_count": null,
   "id": "fc481954",
   "metadata": {},
   "outputs": [],
   "source": []
  }
 ],
 "metadata": {
  "kernelspec": {
   "display_name": "Python 3 (ipykernel)",
   "language": "python",
   "name": "python3"
  },
  "language_info": {
   "codemirror_mode": {
    "name": "ipython",
    "version": 3
   },
   "file_extension": ".py",
   "mimetype": "text/x-python",
   "name": "python",
   "nbconvert_exporter": "python",
   "pygments_lexer": "ipython3",
   "version": "3.9.7"
  }
 },
 "nbformat": 4,
 "nbformat_minor": 5
}
