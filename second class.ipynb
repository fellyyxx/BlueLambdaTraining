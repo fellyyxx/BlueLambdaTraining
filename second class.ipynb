{
 "cells": [
  {
   "cell_type": "code",
   "execution_count": 1,
   "id": "06ff153b",
   "metadata": {},
   "outputs": [],
   "source": [
    "# for loop"
   ]
  },
  {
   "cell_type": "code",
   "execution_count": null,
   "id": "357ec56a",
   "metadata": {},
   "outputs": [],
   "source": [
    "for condition:\n",
    "    todo"
   ]
  },
  {
   "cell_type": "code",
   "execution_count": 2,
   "id": "fa547faa",
   "metadata": {},
   "outputs": [],
   "source": [
    "lis = [2, 4, 6, 8]"
   ]
  },
  {
   "cell_type": "code",
   "execution_count": 3,
   "id": "bee52a0e",
   "metadata": {},
   "outputs": [],
   "source": [
    "#[4,. 8, 12, 16]"
   ]
  },
  {
   "cell_type": "code",
   "execution_count": 6,
   "id": "5f3db8f4",
   "metadata": {},
   "outputs": [],
   "source": [
    "output = []\n",
    "for num in lis: \n",
    "    output.append(num * 2)"
   ]
  },
  {
   "cell_type": "code",
   "execution_count": 7,
   "id": "9e61cb0b",
   "metadata": {},
   "outputs": [
    {
     "data": {
      "text/plain": [
       "[4, 8, 12, 16]"
      ]
     },
     "execution_count": 7,
     "metadata": {},
     "output_type": "execute_result"
    }
   ],
   "source": [
    "output"
   ]
  },
  {
   "cell_type": "code",
   "execution_count": 8,
   "id": "9d7dd82c",
   "metadata": {},
   "outputs": [],
   "source": [
    "var = []"
   ]
  },
  {
   "cell_type": "code",
   "execution_count": 9,
   "id": "501c5365",
   "metadata": {},
   "outputs": [
    {
     "data": {
      "text/plain": [
       "list"
      ]
     },
     "execution_count": 9,
     "metadata": {},
     "output_type": "execute_result"
    }
   ],
   "source": [
    "type(var)"
   ]
  },
  {
   "cell_type": "code",
   "execution_count": 10,
   "id": "db81a3b0",
   "metadata": {},
   "outputs": [],
   "source": [
    "lis = [2, 4, 6, 8]\n",
    "# {2: 4, 4: 8, 6: 12, 8: 16}"
   ]
  },
  {
   "cell_type": "code",
   "execution_count": null,
   "id": "642e78af",
   "metadata": {},
   "outputs": [],
   "source": [
    "key-value pair"
   ]
  },
  {
   "cell_type": "code",
   "execution_count": 11,
   "id": "06f6dd01",
   "metadata": {},
   "outputs": [],
   "source": [
    "dic = {}\n",
    "for num in lis:\n",
    "    dic[num] = 2 * num"
   ]
  },
  {
   "cell_type": "code",
   "execution_count": 12,
   "id": "79b1c3a3",
   "metadata": {},
   "outputs": [
    {
     "data": {
      "text/plain": [
       "{2: 4, 4: 8, 6: 12, 8: 16}"
      ]
     },
     "execution_count": 12,
     "metadata": {},
     "output_type": "execute_result"
    }
   ],
   "source": [
    "dic"
   ]
  },
  {
   "cell_type": "code",
   "execution_count": 13,
   "id": "f79f6820",
   "metadata": {},
   "outputs": [],
   "source": [
    "list1 = [2, 4, 6, 8]\n",
    "list2 = [1, 2, 3, 4, 5, 6, 7]"
   ]
  },
  {
   "cell_type": "code",
   "execution_count": 15,
   "id": "3edf6908",
   "metadata": {},
   "outputs": [
    {
     "name": "stdout",
     "output_type": "stream",
     "text": [
      "2\n",
      "4\n",
      "6\n",
      "8\n",
      "10\n",
      "12\n",
      "14\n",
      "4\n",
      "8\n",
      "12\n",
      "16\n",
      "20\n",
      "24\n",
      "28\n",
      "6\n",
      "12\n",
      "18\n",
      "24\n",
      "30\n",
      "36\n",
      "42\n",
      "8\n",
      "16\n",
      "24\n",
      "32\n",
      "40\n",
      "48\n",
      "56\n"
     ]
    }
   ],
   "source": [
    "for num1 in list1:\n",
    "    for num2 in list2:\n",
    "        print(num1 * num2)"
   ]
  },
  {
   "cell_type": "markdown",
   "id": "11cffd82",
   "metadata": {},
   "source": [
    "num1 = 2\n",
    "num2 = 1\n",
    "2 * 1 = 2\n",
    "num1 = 2\n",
    "num2 = 2\n",
    "2 * 2 = 4\n",
    "num1 = 2\n",
    "num2 = 3\n",
    "2 * 3 = 6\n",
    "num1 = 2\n",
    "num2 = 7\n",
    "2* 7 =14\n",
    "num1 = 4"
   ]
  },
  {
   "cell_type": "markdown",
   "id": "e4fe824b",
   "metadata": {},
   "source": [
    "# Felix"
   ]
  },
  {
   "cell_type": "markdown",
   "id": "b8e5f855",
   "metadata": {},
   "source": [
    "## Felix"
   ]
  },
  {
   "cell_type": "markdown",
   "id": "4a8c701d",
   "metadata": {},
   "source": [
    "# Object_Detection_and_Segmentation\n",
    "Object Detection and Segmentation with Pytorch\n",
    "## Table of Contents\n",
    "1. [Project Description](#description)\n",
    "2. [Project Credentials](#credentials)\n",
    "    * [MongoDB Credentials](#mongo)\n",
    "    * [Resize Images](#crop-and-resize-all-images)\n",
    "    * [Checking Blurness of Images](#Checking-Blur)\n",
    "    * [Data Augmentation](#Data-Augmentation)\n",
    "4. [CNN Architecture](#neural-network-architecture)\n",
    "5. [Installation](#installation)\n",
    "6. [Results](#results)\n",
    "7. [References](#references)\n",
    "8. [Authors](#Authors)\n",
    "\n",
    "\n",
    "## Project Description <a id=\"description\"></a>\n",
    "\n",
    "\n",
    "## Project Credentials <a id=\"credentials\"></a>\n",
    "The project is using **Decouple library** to manage all the necessary credentials. \n",
    "- A .env file must be created at the root of the project\n",
    "- all the credentials written to the file. example ''' mongodb_username=user1\n",
    "mongodb_password=user1password '''\n",
    "\n",
    "##### MongoDB Credentials <a id=\"mongo\"></a>\n",
    "- Mongo DB Credentials: It contains the username and password of the MongoDB user\n",
    "- MongoDB Connection string\n",
    "\n",
    "## Installation <a id=\"installation\"></a>\n",
    "* [Python (Minimum 3)](https://www.continuum.io/blog/developer-blog/python-3-support-anaconda)\n",
    "* [pandas](http://pandas.pydata.org/)\n",
    "* [Seaborn](https://seaborn.pydata.org/)\n",
    "\n",
    "## Authors\n",
    "\n",
    "* **[Omolewa Adaramola](https://github.com/omolewadavids)**\n",
    "* [Blue Lambda Techgnologies LLC](https://www.bluelambdatechnologies.com/)\n",
    "\n",
    "## License\n",
    "\n",
    "* <a rel=\"license\" href=\"https://creativecommons.org/licenses/by-nc-nd/4.0/\"> Creative Commons Attribution-NonCommercial-NoDerivatives 4.0 International License</a>\n",
    "\n",
    "<a rel=\"license\" href=\"https://creativecommons.org/licenses/by-nc-nd/4.0/\">\n",
    "\t<img alt=\"Creative Commons License\" style=\"border-width:0\" src=\"https://i.creativecommons.org/l/by-nc-nd/4.0/88x31.png\" />\n",
    "</a>"
   ]
  },
  {
   "cell_type": "markdown",
   "id": "a67b58f6",
   "metadata": {},
   "source": [
    " **string**"
   ]
  },
  {
   "cell_type": "markdown",
   "id": "e4650fe4",
   "metadata": {},
   "source": [
    "My name is **Omolewa**"
   ]
  },
  {
   "cell_type": "markdown",
   "id": "c6d62f37",
   "metadata": {},
   "source": [
    "$ log $"
   ]
  },
  {
   "cell_type": "markdown",
   "id": "7fd0ded1",
   "metadata": {},
   "source": [
    "- First term\n",
    "    - Second term"
   ]
  },
  {
   "cell_type": "markdown",
   "id": "719c404a",
   "metadata": {},
   "source": [
    "Click here for __[Markdown Link](https://www.ibm.com/docs/en/db2-event-store/2.0.0?topic=notebooks-markdown-jupyter-cheatsheet)__"
   ]
  },
  {
   "cell_type": "markdown",
   "id": "c102ae12",
   "metadata": {},
   "source": [
    "# if-statement\n",
    "if True:\n",
    "    body"
   ]
  },
  {
   "cell_type": "code",
   "execution_count": 25,
   "id": "337bef15",
   "metadata": {},
   "outputs": [],
   "source": [
    "num = 12"
   ]
  },
  {
   "cell_type": "code",
   "execution_count": 22,
   "id": "d822310e",
   "metadata": {},
   "outputs": [
    {
     "name": "stdout",
     "output_type": "stream",
     "text": [
      "Omolewa\n"
     ]
    }
   ],
   "source": [
    "if num != 500:\n",
    "    print('Omolewa')"
   ]
  },
  {
   "cell_type": "code",
   "execution_count": 21,
   "id": "d6337abf",
   "metadata": {},
   "outputs": [
    {
     "data": {
      "text/plain": [
       "True"
      ]
     },
     "execution_count": 21,
     "metadata": {},
     "output_type": "execute_result"
    }
   ],
   "source": [
    "num != 500"
   ]
  },
  {
   "cell_type": "code",
   "execution_count": 26,
   "id": "7f5fc11d",
   "metadata": {},
   "outputs": [
    {
     "name": "stdout",
     "output_type": "stream",
     "text": [
      "Adaramola\n"
     ]
    }
   ],
   "source": [
    "if num == 500:\n",
    "    print('Omolewa')\n",
    "elif num == 1000:\n",
    "    print('Felix')\n",
    "elif num == 200:\n",
    "    print('Bukola')\n",
    "else:\n",
    "    print('Adaramola')"
   ]
  },
  {
   "cell_type": "code",
   "execution_count": 27,
   "id": "93beea1c",
   "metadata": {},
   "outputs": [],
   "source": [
    "lis = [1, 2, 4, 6, 200, 23, 17]\n",
    "# [20, 40, 60, 2000]"
   ]
  },
  {
   "cell_type": "code",
   "execution_count": 28,
   "id": "709b5ff6",
   "metadata": {},
   "outputs": [
    {
     "data": {
      "text/plain": [
       "3.3333333333333335"
      ]
     },
     "execution_count": 28,
     "metadata": {},
     "output_type": "execute_result"
    }
   ],
   "source": [
    "10 / 3"
   ]
  },
  {
   "cell_type": "code",
   "execution_count": 29,
   "id": "d71c0569",
   "metadata": {},
   "outputs": [
    {
     "data": {
      "text/plain": [
       "3"
      ]
     },
     "execution_count": 29,
     "metadata": {},
     "output_type": "execute_result"
    }
   ],
   "source": [
    "10 // 3"
   ]
  },
  {
   "cell_type": "code",
   "execution_count": 30,
   "id": "585c8767",
   "metadata": {},
   "outputs": [
    {
     "data": {
      "text/plain": [
       "1"
      ]
     },
     "execution_count": 30,
     "metadata": {},
     "output_type": "execute_result"
    }
   ],
   "source": [
    "10 % 3"
   ]
  },
  {
   "cell_type": "code",
   "execution_count": 31,
   "id": "439c9573",
   "metadata": {},
   "outputs": [
    {
     "data": {
      "text/plain": [
       "0"
      ]
     },
     "execution_count": 31,
     "metadata": {},
     "output_type": "execute_result"
    }
   ],
   "source": [
    "10 % 2"
   ]
  },
  {
   "cell_type": "code",
   "execution_count": 33,
   "id": "273ca5c8",
   "metadata": {},
   "outputs": [
    {
     "data": {
      "text/plain": [
       "False"
      ]
     },
     "execution_count": 33,
     "metadata": {},
     "output_type": "execute_result"
    }
   ],
   "source": [
    "113 % 2 == 0"
   ]
  },
  {
   "cell_type": "code",
   "execution_count": null,
   "id": "5276ef33",
   "metadata": {},
   "outputs": [],
   "source": [
    "0 == 0"
   ]
  },
  {
   "cell_type": "code",
   "execution_count": 34,
   "id": "d47dc9a4",
   "metadata": {},
   "outputs": [
    {
     "name": "stdout",
     "output_type": "stream",
     "text": [
      "20\n",
      "40\n",
      "60\n",
      "2000\n"
     ]
    }
   ],
   "source": [
    "lis = [1, 2, 4, 6, 200, 23, 17]\n",
    "# [20, 40, 60, 2000]\n",
    "for num in lis:\n",
    "    if num % 2 == 0:\n",
    "        print(num * 10)"
   ]
  },
  {
   "cell_type": "code",
   "execution_count": null,
   "id": "e6977129",
   "metadata": {},
   "outputs": [],
   "source": [
    "range(start, stop, step)"
   ]
  },
  {
   "cell_type": "code",
   "execution_count": 37,
   "id": "d08e025c",
   "metadata": {},
   "outputs": [
    {
     "name": "stdout",
     "output_type": "stream",
     "text": [
      "0\n",
      "1\n",
      "2\n",
      "3\n",
      "4\n",
      "5\n",
      "6\n",
      "7\n",
      "8\n",
      "9\n"
     ]
    }
   ],
   "source": [
    "for i in range(10):\n",
    "    print(i)"
   ]
  },
  {
   "cell_type": "code",
   "execution_count": 43,
   "id": "c0f4b30b",
   "metadata": {},
   "outputs": [],
   "source": [
    "# multiple of 2 up to 60\n",
    "lis = []\n",
    "for i in range(1, 61):\n",
    "    if i % 2 == 0:\n",
    "        lis.append(i * 2)"
   ]
  },
  {
   "cell_type": "code",
   "execution_count": 44,
   "id": "3f4ab3c1",
   "metadata": {},
   "outputs": [
    {
     "data": {
      "text/plain": [
       "[4,\n",
       " 8,\n",
       " 12,\n",
       " 16,\n",
       " 20,\n",
       " 24,\n",
       " 28,\n",
       " 32,\n",
       " 36,\n",
       " 40,\n",
       " 44,\n",
       " 48,\n",
       " 52,\n",
       " 56,\n",
       " 60,\n",
       " 64,\n",
       " 68,\n",
       " 72,\n",
       " 76,\n",
       " 80,\n",
       " 84,\n",
       " 88,\n",
       " 92,\n",
       " 96,\n",
       " 100,\n",
       " 104,\n",
       " 108,\n",
       " 112,\n",
       " 116,\n",
       " 120]"
      ]
     },
     "execution_count": 44,
     "metadata": {},
     "output_type": "execute_result"
    }
   ],
   "source": [
    "lis"
   ]
  },
  {
   "cell_type": "code",
   "execution_count": 46,
   "id": "b15c4a54",
   "metadata": {},
   "outputs": [
    {
     "data": {
      "text/plain": [
       "[4,\n",
       " 8,\n",
       " 12,\n",
       " 16,\n",
       " 20,\n",
       " 24,\n",
       " 28,\n",
       " 32,\n",
       " 36,\n",
       " 40,\n",
       " 44,\n",
       " 48,\n",
       " 52,\n",
       " 56,\n",
       " 60,\n",
       " 64,\n",
       " 68,\n",
       " 72,\n",
       " 76,\n",
       " 80,\n",
       " 84,\n",
       " 88,\n",
       " 92,\n",
       " 96,\n",
       " 100,\n",
       " 104,\n",
       " 108,\n",
       " 112,\n",
       " 116,\n",
       " 120]"
      ]
     },
     "execution_count": 46,
     "metadata": {},
     "output_type": "execute_result"
    }
   ],
   "source": [
    "[i * 2 for i in range(1, 61) if i % 2 == 0]"
   ]
  },
  {
   "cell_type": "code",
   "execution_count": 1,
   "id": "9f92a31c",
   "metadata": {},
   "outputs": [
    {
     "name": "stdout",
     "output_type": "stream",
     "text": [
      "Felix\n"
     ]
    }
   ],
   "source": [
    "print('Felix')"
   ]
  },
  {
   "cell_type": "code",
   "execution_count": 2,
   "id": "5bfa4b84",
   "metadata": {},
   "outputs": [],
   "source": [
    "lis = [1, 2, 4, 6, 200, 23, 17]"
   ]
  },
  {
   "cell_type": "code",
   "execution_count": null,
   "id": "83e5f270",
   "metadata": {},
   "outputs": [],
   "source": [
    "{1: 10, 2: 20, 4: 40, 6: 60, 200: 2000}"
   ]
  },
  {
   "cell_type": "code",
   "execution_count": 5,
   "id": "af5383b8",
   "metadata": {},
   "outputs": [
    {
     "data": {
      "text/plain": [
       "{2: 20, 4: 40, 6: 60, 200: 2000}"
      ]
     },
     "execution_count": 5,
     "metadata": {},
     "output_type": "execute_result"
    }
   ],
   "source": [
    "{i: 10 * i for i in lis if i % 2 == 0}"
   ]
  },
  {
   "cell_type": "code",
   "execution_count": 4,
   "id": "4081dd0a",
   "metadata": {},
   "outputs": [
    {
     "ename": "NameError",
     "evalue": "name 'i' is not defined",
     "output_type": "error",
     "traceback": [
      "\u001b[1;31m---------------------------------------------------------------------------\u001b[0m",
      "\u001b[1;31mNameError\u001b[0m                                 Traceback (most recent call last)",
      "\u001b[1;32mC:\\Users\\OMOLEW~1\\AppData\\Local\\Temp/ipykernel_43028/3739022151.py\u001b[0m in \u001b[0;36m<module>\u001b[1;34m\u001b[0m\n\u001b[1;32m----> 1\u001b[1;33m \u001b[1;33m{\u001b[0m\u001b[0mi\u001b[0m\u001b[1;33m:\u001b[0m \u001b[1;36m10\u001b[0m \u001b[1;33m*\u001b[0m \u001b[0mi\u001b[0m\u001b[1;33m}\u001b[0m\u001b[1;33m\u001b[0m\u001b[1;33m\u001b[0m\u001b[0m\n\u001b[0m",
      "\u001b[1;31mNameError\u001b[0m: name 'i' is not defined"
     ]
    }
   ],
   "source": [
    "{i: 10 * i}"
   ]
  },
  {
   "cell_type": "code",
   "execution_count": 6,
   "id": "478aa66d",
   "metadata": {},
   "outputs": [],
   "source": [
    "# generator"
   ]
  },
  {
   "cell_type": "code",
   "execution_count": 7,
   "id": "8d07d281",
   "metadata": {},
   "outputs": [],
   "source": [
    "gen = (i * 10 for i in lis)"
   ]
  },
  {
   "cell_type": "code",
   "execution_count": 8,
   "id": "8b83f688",
   "metadata": {},
   "outputs": [
    {
     "data": {
      "text/plain": [
       "generator"
      ]
     },
     "execution_count": 8,
     "metadata": {},
     "output_type": "execute_result"
    }
   ],
   "source": [
    "type(gen)"
   ]
  },
  {
   "cell_type": "code",
   "execution_count": 9,
   "id": "259f31bb",
   "metadata": {},
   "outputs": [
    {
     "data": {
      "text/plain": [
       "10"
      ]
     },
     "execution_count": 9,
     "metadata": {},
     "output_type": "execute_result"
    }
   ],
   "source": [
    "next(gen)"
   ]
  },
  {
   "cell_type": "code",
   "execution_count": 10,
   "id": "8f8f8c48",
   "metadata": {},
   "outputs": [
    {
     "data": {
      "text/plain": [
       "20"
      ]
     },
     "execution_count": 10,
     "metadata": {},
     "output_type": "execute_result"
    }
   ],
   "source": [
    "next(gen)"
   ]
  },
  {
   "cell_type": "code",
   "execution_count": 11,
   "id": "541e631a",
   "metadata": {},
   "outputs": [
    {
     "data": {
      "text/plain": [
       "40"
      ]
     },
     "execution_count": 11,
     "metadata": {},
     "output_type": "execute_result"
    }
   ],
   "source": [
    "next(gen)"
   ]
  },
  {
   "cell_type": "code",
   "execution_count": 12,
   "id": "0bf98956",
   "metadata": {},
   "outputs": [
    {
     "data": {
      "text/plain": [
       "60"
      ]
     },
     "execution_count": 12,
     "metadata": {},
     "output_type": "execute_result"
    }
   ],
   "source": [
    "next(gen)"
   ]
  },
  {
   "cell_type": "code",
   "execution_count": null,
   "id": "fc823aaf",
   "metadata": {},
   "outputs": [],
   "source": [
    "(), [], {}, ''"
   ]
  },
  {
   "cell_type": "code",
   "execution_count": 13,
   "id": "1bd8c24b",
   "metadata": {},
   "outputs": [],
   "source": [
    "name = 'Omolewa'"
   ]
  },
  {
   "cell_type": "code",
   "execution_count": 14,
   "id": "e93d7745",
   "metadata": {},
   "outputs": [
    {
     "data": {
      "text/plain": [
       "'OMOLEWA'"
      ]
     },
     "execution_count": 14,
     "metadata": {},
     "output_type": "execute_result"
    }
   ],
   "source": [
    "name.upper()"
   ]
  },
  {
   "cell_type": "code",
   "execution_count": 15,
   "id": "e2dd48db",
   "metadata": {},
   "outputs": [
    {
     "data": {
      "text/plain": [
       "tuple"
      ]
     },
     "execution_count": 15,
     "metadata": {},
     "output_type": "execute_result"
    }
   ],
   "source": [
    "type(())"
   ]
  },
  {
   "cell_type": "code",
   "execution_count": 16,
   "id": "181d41d4",
   "metadata": {},
   "outputs": [],
   "source": [
    "t = ()"
   ]
  },
  {
   "cell_type": "code",
   "execution_count": 17,
   "id": "f7993d75",
   "metadata": {},
   "outputs": [
    {
     "data": {
      "text/plain": [
       "tuple"
      ]
     },
     "execution_count": 17,
     "metadata": {},
     "output_type": "execute_result"
    }
   ],
   "source": [
    "type(t)"
   ]
  },
  {
   "cell_type": "code",
   "execution_count": 18,
   "id": "806f8f6d",
   "metadata": {},
   "outputs": [],
   "source": [
    "t = (1, 2, 3, 4, 5, 6)"
   ]
  },
  {
   "cell_type": "code",
   "execution_count": 19,
   "id": "4938b3f1",
   "metadata": {},
   "outputs": [
    {
     "data": {
      "text/plain": [
       "6"
      ]
     },
     "execution_count": 19,
     "metadata": {},
     "output_type": "execute_result"
    }
   ],
   "source": [
    "len(t)"
   ]
  },
  {
   "cell_type": "code",
   "execution_count": 22,
   "id": "97560d1f",
   "metadata": {},
   "outputs": [],
   "source": [
    "t = (3,)"
   ]
  },
  {
   "cell_type": "code",
   "execution_count": 23,
   "id": "e948793e",
   "metadata": {},
   "outputs": [
    {
     "data": {
      "text/plain": [
       "tuple"
      ]
     },
     "execution_count": 23,
     "metadata": {},
     "output_type": "execute_result"
    }
   ],
   "source": [
    "type(t)"
   ]
  },
  {
   "cell_type": "code",
   "execution_count": 24,
   "id": "e620917a",
   "metadata": {},
   "outputs": [],
   "source": [
    "# unpack"
   ]
  },
  {
   "cell_type": "code",
   "execution_count": 25,
   "id": "0699fafd",
   "metadata": {},
   "outputs": [],
   "source": [
    "a, b, c = [2, 10, 4]"
   ]
  },
  {
   "cell_type": "code",
   "execution_count": 26,
   "id": "6eb9a735",
   "metadata": {},
   "outputs": [
    {
     "data": {
      "text/plain": [
       "4"
      ]
     },
     "execution_count": 26,
     "metadata": {},
     "output_type": "execute_result"
    }
   ],
   "source": [
    "c"
   ]
  },
  {
   "cell_type": "code",
   "execution_count": 27,
   "id": "f7167ad7",
   "metadata": {},
   "outputs": [],
   "source": [
    "a, b, c = (2, 3, 4)"
   ]
  },
  {
   "cell_type": "code",
   "execution_count": 28,
   "id": "85c6db57",
   "metadata": {},
   "outputs": [
    {
     "data": {
      "text/plain": [
       "2"
      ]
     },
     "execution_count": 28,
     "metadata": {},
     "output_type": "execute_result"
    }
   ],
   "source": [
    "a"
   ]
  },
  {
   "cell_type": "code",
   "execution_count": null,
   "id": "cf98cdd8",
   "metadata": {},
   "outputs": [],
   "source": []
  },
  {
   "cell_type": "code",
   "execution_count": 29,
   "id": "a6195226",
   "metadata": {},
   "outputs": [],
   "source": [
    "# Function"
   ]
  },
  {
   "cell_type": "code",
   "execution_count": 30,
   "id": "05221f7f",
   "metadata": {},
   "outputs": [],
   "source": [
    "def multiply():\n",
    "    print(2 * 3)"
   ]
  },
  {
   "cell_type": "code",
   "execution_count": 31,
   "id": "e7088e23",
   "metadata": {},
   "outputs": [
    {
     "name": "stdout",
     "output_type": "stream",
     "text": [
      "6\n"
     ]
    }
   ],
   "source": [
    "multiply()"
   ]
  },
  {
   "cell_type": "code",
   "execution_count": 32,
   "id": "b0c68002",
   "metadata": {},
   "outputs": [],
   "source": [
    "def multiply():\n",
    "    print(4 * 5)"
   ]
  },
  {
   "cell_type": "code",
   "execution_count": 33,
   "id": "71099547",
   "metadata": {},
   "outputs": [],
   "source": [
    "def multiply(x, y):\n",
    "    print(x * y)"
   ]
  },
  {
   "cell_type": "code",
   "execution_count": 34,
   "id": "2c21c7d0",
   "metadata": {},
   "outputs": [
    {
     "name": "stdout",
     "output_type": "stream",
     "text": [
      "6\n"
     ]
    }
   ],
   "source": [
    "multiply(2, 3)"
   ]
  },
  {
   "cell_type": "code",
   "execution_count": 35,
   "id": "fe3d9ef8",
   "metadata": {},
   "outputs": [
    {
     "name": "stdout",
     "output_type": "stream",
     "text": [
      "1058\n"
     ]
    }
   ],
   "source": [
    "multiply(23, 46)"
   ]
  },
  {
   "cell_type": "code",
   "execution_count": 36,
   "id": "9831ab29",
   "metadata": {},
   "outputs": [
    {
     "ename": "TypeError",
     "evalue": "multiply() missing 2 required positional arguments: 'x' and 'y'",
     "output_type": "error",
     "traceback": [
      "\u001b[1;31m---------------------------------------------------------------------------\u001b[0m",
      "\u001b[1;31mTypeError\u001b[0m                                 Traceback (most recent call last)",
      "\u001b[1;32mC:\\Users\\OMOLEW~1\\AppData\\Local\\Temp/ipykernel_43028/822649435.py\u001b[0m in \u001b[0;36m<module>\u001b[1;34m\u001b[0m\n\u001b[1;32m----> 1\u001b[1;33m \u001b[0mmultiply\u001b[0m\u001b[1;33m(\u001b[0m\u001b[1;33m)\u001b[0m\u001b[1;33m\u001b[0m\u001b[1;33m\u001b[0m\u001b[0m\n\u001b[0m",
      "\u001b[1;31mTypeError\u001b[0m: multiply() missing 2 required positional arguments: 'x' and 'y'"
     ]
    }
   ],
   "source": [
    "multiply()"
   ]
  },
  {
   "cell_type": "code",
   "execution_count": 37,
   "id": "685901f3",
   "metadata": {},
   "outputs": [],
   "source": [
    "def multiply(x=10, y=30):\n",
    "    print(x * y)"
   ]
  },
  {
   "cell_type": "code",
   "execution_count": 38,
   "id": "3c9084da",
   "metadata": {},
   "outputs": [
    {
     "name": "stdout",
     "output_type": "stream",
     "text": [
      "300\n"
     ]
    }
   ],
   "source": [
    "multiply()"
   ]
  },
  {
   "cell_type": "code",
   "execution_count": 48,
   "id": "e5f3256a",
   "metadata": {},
   "outputs": [],
   "source": [
    "def multiply(x, y=30):\n",
    "    print(x * y)"
   ]
  },
  {
   "cell_type": "code",
   "execution_count": 49,
   "id": "defc884f",
   "metadata": {},
   "outputs": [
    {
     "name": "stdout",
     "output_type": "stream",
     "text": [
      "8000000\n"
     ]
    }
   ],
   "source": [
    "multiply(y=2000, x=4000)"
   ]
  },
  {
   "cell_type": "code",
   "execution_count": 50,
   "id": "5f566d5e",
   "metadata": {},
   "outputs": [
    {
     "ename": "TypeError",
     "evalue": "multiply() got an unexpected keyword argument 'Y'",
     "output_type": "error",
     "traceback": [
      "\u001b[1;31m---------------------------------------------------------------------------\u001b[0m",
      "\u001b[1;31mTypeError\u001b[0m                                 Traceback (most recent call last)",
      "\u001b[1;32mC:\\Users\\OMOLEW~1\\AppData\\Local\\Temp/ipykernel_43028/3986249981.py\u001b[0m in \u001b[0;36m<module>\u001b[1;34m\u001b[0m\n\u001b[1;32m----> 1\u001b[1;33m \u001b[0mmultiply\u001b[0m\u001b[1;33m(\u001b[0m\u001b[0mY\u001b[0m\u001b[1;33m=\u001b[0m\u001b[1;36m2000\u001b[0m\u001b[1;33m,\u001b[0m \u001b[0mx\u001b[0m\u001b[1;33m=\u001b[0m\u001b[1;36m4000\u001b[0m\u001b[1;33m)\u001b[0m\u001b[1;33m\u001b[0m\u001b[1;33m\u001b[0m\u001b[0m\n\u001b[0m",
      "\u001b[1;31mTypeError\u001b[0m: multiply() got an unexpected keyword argument 'Y'"
     ]
    }
   ],
   "source": [
    "multiply(Y=2000, x=4000)"
   ]
  },
  {
   "cell_type": "code",
   "execution_count": 52,
   "id": "86972704",
   "metadata": {},
   "outputs": [],
   "source": [
    "def multiply(x,y=30):\n",
    "    print(x * y)"
   ]
  },
  {
   "cell_type": "code",
   "execution_count": 53,
   "id": "786f287c",
   "metadata": {},
   "outputs": [],
   "source": [
    "def multiply(x, y=30):\n",
    "    return x * y"
   ]
  },
  {
   "cell_type": "code",
   "execution_count": 54,
   "id": "fc598194",
   "metadata": {},
   "outputs": [],
   "source": [
    "out = multiply(20, 10)"
   ]
  },
  {
   "cell_type": "code",
   "execution_count": 55,
   "id": "a0d831bf",
   "metadata": {},
   "outputs": [
    {
     "data": {
      "text/plain": [
       "200"
      ]
     },
     "execution_count": 55,
     "metadata": {},
     "output_type": "execute_result"
    }
   ],
   "source": [
    "out"
   ]
  },
  {
   "cell_type": "code",
   "execution_count": 56,
   "id": "b4c6c192",
   "metadata": {},
   "outputs": [],
   "source": [
    "def multiply(x,y=30):\n",
    "    print(x * y)"
   ]
  },
  {
   "cell_type": "code",
   "execution_count": 57,
   "id": "33c99a76",
   "metadata": {},
   "outputs": [
    {
     "name": "stdout",
     "output_type": "stream",
     "text": [
      "200\n"
     ]
    }
   ],
   "source": [
    "out = multiply(10, 20)"
   ]
  },
  {
   "cell_type": "code",
   "execution_count": 58,
   "id": "5493ca67",
   "metadata": {},
   "outputs": [],
   "source": [
    "out"
   ]
  },
  {
   "cell_type": "code",
   "execution_count": 59,
   "id": "ba84490e",
   "metadata": {},
   "outputs": [],
   "source": [
    "def multiply(x, y=30):\n",
    "    return x * y"
   ]
  },
  {
   "cell_type": "code",
   "execution_count": 60,
   "id": "7049e17f",
   "metadata": {},
   "outputs": [],
   "source": [
    "out = multiply(10, 20)"
   ]
  },
  {
   "cell_type": "code",
   "execution_count": 61,
   "id": "71d54b11",
   "metadata": {},
   "outputs": [
    {
     "data": {
      "text/plain": [
       "200"
      ]
     },
     "execution_count": 61,
     "metadata": {},
     "output_type": "execute_result"
    }
   ],
   "source": [
    "out"
   ]
  },
  {
   "cell_type": "code",
   "execution_count": 62,
   "id": "68ccb223",
   "metadata": {},
   "outputs": [
    {
     "name": "stdout",
     "output_type": "stream",
     "text": [
      "200\n"
     ]
    }
   ],
   "source": [
    "print(multiply(10, 20))"
   ]
  },
  {
   "cell_type": "code",
   "execution_count": 63,
   "id": "c0fb526d",
   "metadata": {},
   "outputs": [],
   "source": [
    "lis = [1, 2, 3, 4, 5, 6, 7]"
   ]
  },
  {
   "cell_type": "code",
   "execution_count": 66,
   "id": "b255acb9",
   "metadata": {},
   "outputs": [],
   "source": [
    "def cube(x):\n",
    "    return {i: i ** 3 for i in x}"
   ]
  },
  {
   "cell_type": "code",
   "execution_count": 67,
   "id": "5c250469",
   "metadata": {},
   "outputs": [
    {
     "data": {
      "text/plain": [
       "[1, 8, 27, 64, 125, 216, 343]"
      ]
     },
     "execution_count": 67,
     "metadata": {},
     "output_type": "execute_result"
    }
   ],
   "source": [
    "cube(lis)"
   ]
  },
  {
   "cell_type": "code",
   "execution_count": 70,
   "id": "7bac0e8b",
   "metadata": {},
   "outputs": [],
   "source": [
    "def slicing(s, start, stop, step):\n",
    "    return s[start:stop:step]"
   ]
  },
  {
   "cell_type": "code",
   "execution_count": 73,
   "id": "8a0b0d2e",
   "metadata": {},
   "outputs": [
    {
     "data": {
      "text/plain": [
       "''"
      ]
     },
     "execution_count": 73,
     "metadata": {},
     "output_type": "execute_result"
    }
   ],
   "source": [
    "slicing('', 2, 8, 2)"
   ]
  },
  {
   "cell_type": "code",
   "execution_count": 95,
   "id": "9050fcd1",
   "metadata": {},
   "outputs": [],
   "source": [
    "def slicing(s, start=None, stop=None, step=None):\n",
    "    assert len(s) != 0, f'{s} is an empty string'\n",
    "    if start == None:\n",
    "        start = 0\n",
    "    if stop == None:\n",
    "        stop=len(s)\n",
    "    if step == None:\n",
    "        step = 1\n",
    "    return s[start:stop:step]"
   ]
  },
  {
   "cell_type": "code",
   "execution_count": 96,
   "id": "bdc0bbe7",
   "metadata": {},
   "outputs": [
    {
     "ename": "AssertionError",
     "evalue": " is an empty string",
     "output_type": "error",
     "traceback": [
      "\u001b[1;31m---------------------------------------------------------------------------\u001b[0m",
      "\u001b[1;31mAssertionError\u001b[0m                            Traceback (most recent call last)",
      "\u001b[1;32mC:\\Users\\OMOLEW~1\\AppData\\Local\\Temp/ipykernel_43028/2967159442.py\u001b[0m in \u001b[0;36m<module>\u001b[1;34m\u001b[0m\n\u001b[1;32m----> 1\u001b[1;33m \u001b[0mslicing\u001b[0m\u001b[1;33m(\u001b[0m\u001b[1;34m''\u001b[0m\u001b[1;33m,\u001b[0m \u001b[0mstep\u001b[0m\u001b[1;33m=\u001b[0m\u001b[1;36m2\u001b[0m\u001b[1;33m)\u001b[0m\u001b[1;33m\u001b[0m\u001b[1;33m\u001b[0m\u001b[0m\n\u001b[0m",
      "\u001b[1;32mC:\\Users\\OMOLEW~1\\AppData\\Local\\Temp/ipykernel_43028/4136318962.py\u001b[0m in \u001b[0;36mslicing\u001b[1;34m(s, start, stop, step)\u001b[0m\n\u001b[0;32m      1\u001b[0m \u001b[1;32mdef\u001b[0m \u001b[0mslicing\u001b[0m\u001b[1;33m(\u001b[0m\u001b[0ms\u001b[0m\u001b[1;33m,\u001b[0m \u001b[0mstart\u001b[0m\u001b[1;33m=\u001b[0m\u001b[1;32mNone\u001b[0m\u001b[1;33m,\u001b[0m \u001b[0mstop\u001b[0m\u001b[1;33m=\u001b[0m\u001b[1;32mNone\u001b[0m\u001b[1;33m,\u001b[0m \u001b[0mstep\u001b[0m\u001b[1;33m=\u001b[0m\u001b[1;32mNone\u001b[0m\u001b[1;33m)\u001b[0m\u001b[1;33m:\u001b[0m\u001b[1;33m\u001b[0m\u001b[1;33m\u001b[0m\u001b[0m\n\u001b[1;32m----> 2\u001b[1;33m     \u001b[1;32massert\u001b[0m \u001b[0mlen\u001b[0m\u001b[1;33m(\u001b[0m\u001b[0ms\u001b[0m\u001b[1;33m)\u001b[0m \u001b[1;33m!=\u001b[0m \u001b[1;36m0\u001b[0m\u001b[1;33m,\u001b[0m \u001b[1;34mf'{s} is an empty string'\u001b[0m\u001b[1;33m\u001b[0m\u001b[1;33m\u001b[0m\u001b[0m\n\u001b[0m\u001b[0;32m      3\u001b[0m     \u001b[1;32mif\u001b[0m \u001b[0mstart\u001b[0m \u001b[1;33m==\u001b[0m \u001b[1;32mNone\u001b[0m\u001b[1;33m:\u001b[0m\u001b[1;33m\u001b[0m\u001b[1;33m\u001b[0m\u001b[0m\n\u001b[0;32m      4\u001b[0m         \u001b[0mstart\u001b[0m \u001b[1;33m=\u001b[0m \u001b[1;36m0\u001b[0m\u001b[1;33m\u001b[0m\u001b[1;33m\u001b[0m\u001b[0m\n\u001b[0;32m      5\u001b[0m     \u001b[1;32mif\u001b[0m \u001b[0mstop\u001b[0m \u001b[1;33m==\u001b[0m \u001b[1;32mNone\u001b[0m\u001b[1;33m:\u001b[0m\u001b[1;33m\u001b[0m\u001b[1;33m\u001b[0m\u001b[0m\n",
      "\u001b[1;31mAssertionError\u001b[0m:  is an empty string"
     ]
    }
   ],
   "source": [
    "slicing('', step=2)"
   ]
  },
  {
   "cell_type": "code",
   "execution_count": 88,
   "id": "57306161",
   "metadata": {},
   "outputs": [],
   "source": [
    "x = 5"
   ]
  },
  {
   "cell_type": "code",
   "execution_count": null,
   "id": "2bfd6a6c",
   "metadata": {},
   "outputs": [],
   "source": []
  },
  {
   "cell_type": "code",
   "execution_count": 89,
   "id": "41a7847e",
   "metadata": {},
   "outputs": [
    {
     "data": {
      "text/plain": [
       "'5 is an integer'"
      ]
     },
     "execution_count": 89,
     "metadata": {},
     "output_type": "execute_result"
    }
   ],
   "source": [
    "# f-string\n",
    "f'{x} is an integer'"
   ]
  },
  {
   "cell_type": "code",
   "execution_count": 90,
   "id": "214902e3",
   "metadata": {},
   "outputs": [],
   "source": [
    "fname = 'Omolewa'\n",
    "lname = 'Adaramola'"
   ]
  },
  {
   "cell_type": "code",
   "execution_count": 91,
   "id": "95991f49",
   "metadata": {},
   "outputs": [
    {
     "data": {
      "text/plain": [
       "'My first name is Omolewa and my last name is Adaramola'"
      ]
     },
     "execution_count": 91,
     "metadata": {},
     "output_type": "execute_result"
    }
   ],
   "source": [
    "f'My first name is {fname} and my last name is {lname}'"
   ]
  },
  {
   "cell_type": "code",
   "execution_count": 92,
   "id": "e4d6bfc2",
   "metadata": {},
   "outputs": [],
   "source": [
    "customers = ['Felix', 'Omolewa', 'Brown']"
   ]
  },
  {
   "cell_type": "code",
   "execution_count": 94,
   "id": "cbbdb7bf",
   "metadata": {},
   "outputs": [
    {
     "name": "stdout",
     "output_type": "stream",
     "text": [
      "Dear Mr Felix, Thank you for.....\n",
      "Dear Mr Omolewa, Thank you for.....\n",
      "Dear Mr Brown, Thank you for.....\n"
     ]
    }
   ],
   "source": [
    "for name in customers:\n",
    "    print(f'Dear Mr {name}, Thank you for.....')"
   ]
  },
  {
   "cell_type": "code",
   "execution_count": 75,
   "id": "77c09881",
   "metadata": {},
   "outputs": [
    {
     "ename": "AssertionError",
     "evalue": "",
     "output_type": "error",
     "traceback": [
      "\u001b[1;31m---------------------------------------------------------------------------\u001b[0m",
      "\u001b[1;31mAssertionError\u001b[0m                            Traceback (most recent call last)",
      "\u001b[1;32mC:\\Users\\OMOLEW~1\\AppData\\Local\\Temp/ipykernel_43028/2971441187.py\u001b[0m in \u001b[0;36m<module>\u001b[1;34m\u001b[0m\n\u001b[1;32m----> 1\u001b[1;33m \u001b[1;32massert\u001b[0m \u001b[1;36m2\u001b[0m\u001b[1;33m==\u001b[0m\u001b[1;36m3\u001b[0m\u001b[1;33m\u001b[0m\u001b[1;33m\u001b[0m\u001b[0m\n\u001b[0m",
      "\u001b[1;31mAssertionError\u001b[0m: "
     ]
    }
   ],
   "source": [
    "assert 2==3, 'This is not correct'"
   ]
  },
  {
   "cell_type": "code",
   "execution_count": 76,
   "id": "320e559e",
   "metadata": {},
   "outputs": [
    {
     "ename": "AssertionError",
     "evalue": "This is not correct",
     "output_type": "error",
     "traceback": [
      "\u001b[1;31m---------------------------------------------------------------------------\u001b[0m",
      "\u001b[1;31mAssertionError\u001b[0m                            Traceback (most recent call last)",
      "\u001b[1;32mC:\\Users\\OMOLEW~1\\AppData\\Local\\Temp/ipykernel_43028/2593800874.py\u001b[0m in \u001b[0;36m<module>\u001b[1;34m\u001b[0m\n\u001b[1;32m----> 1\u001b[1;33m \u001b[1;32massert\u001b[0m \u001b[1;36m2\u001b[0m\u001b[1;33m==\u001b[0m\u001b[1;36m3\u001b[0m\u001b[1;33m,\u001b[0m \u001b[1;34m'This is not correct'\u001b[0m\u001b[1;33m\u001b[0m\u001b[1;33m\u001b[0m\u001b[0m\n\u001b[0m",
      "\u001b[1;31mAssertionError\u001b[0m: This is not correct"
     ]
    }
   ],
   "source": [
    "assert 2==3, 'This is not correct'"
   ]
  },
  {
   "cell_type": "code",
   "execution_count": 101,
   "id": "9d71de36",
   "metadata": {},
   "outputs": [],
   "source": [
    "def create_generator(lis):\n",
    "    for i in lis:\n",
    "        yield i * 10"
   ]
  },
  {
   "cell_type": "code",
   "execution_count": 102,
   "id": "419d5233",
   "metadata": {},
   "outputs": [],
   "source": [
    "gen = create_generator([2, 4, 6, 1, 10])"
   ]
  },
  {
   "cell_type": "code",
   "execution_count": 103,
   "id": "1bdba555",
   "metadata": {},
   "outputs": [
    {
     "data": {
      "text/plain": [
       "20"
      ]
     },
     "execution_count": 103,
     "metadata": {},
     "output_type": "execute_result"
    }
   ],
   "source": [
    "next(gen)"
   ]
  },
  {
   "cell_type": "code",
   "execution_count": 104,
   "id": "caed865b",
   "metadata": {},
   "outputs": [
    {
     "data": {
      "text/plain": [
       "40"
      ]
     },
     "execution_count": 104,
     "metadata": {},
     "output_type": "execute_result"
    }
   ],
   "source": [
    "next(gen)"
   ]
  },
  {
   "cell_type": "code",
   "execution_count": 105,
   "id": "c56c82be",
   "metadata": {},
   "outputs": [
    {
     "data": {
      "text/plain": [
       "60"
      ]
     },
     "execution_count": 105,
     "metadata": {},
     "output_type": "execute_result"
    }
   ],
   "source": [
    "next(gen)"
   ]
  },
  {
   "cell_type": "code",
   "execution_count": null,
   "id": "08aa2e04",
   "metadata": {},
   "outputs": [],
   "source": []
  },
  {
   "cell_type": "code",
   "execution_count": null,
   "id": "1f95cc36",
   "metadata": {},
   "outputs": [],
   "source": []
  },
  {
   "cell_type": "code",
   "execution_count": null,
   "id": "617b3f02",
   "metadata": {},
   "outputs": [],
   "source": []
  },
  {
   "cell_type": "code",
   "execution_count": null,
   "id": "b91d13fe",
   "metadata": {},
   "outputs": [],
   "source": []
  },
  {
   "cell_type": "code",
   "execution_count": null,
   "id": "e134f7a4",
   "metadata": {},
   "outputs": [],
   "source": []
  },
  {
   "cell_type": "code",
   "execution_count": null,
   "id": "1e43a31a",
   "metadata": {},
   "outputs": [],
   "source": []
  },
  {
   "cell_type": "code",
   "execution_count": 82,
   "id": "cda7091d",
   "metadata": {},
   "outputs": [],
   "source": [
    "name = 'felix'"
   ]
  },
  {
   "cell_type": "code",
   "execution_count": 69,
   "id": "30234209",
   "metadata": {},
   "outputs": [
    {
     "data": {
      "text/plain": [
       "'ml'"
      ]
     },
     "execution_count": 69,
     "metadata": {},
     "output_type": "execute_result"
    }
   ],
   "source": [
    "name[::2]"
   ]
  },
  {
   "cell_type": "code",
   "execution_count": 83,
   "id": "75ece1b6",
   "metadata": {},
   "outputs": [
    {
     "data": {
      "text/plain": [
       "5"
      ]
     },
     "execution_count": 83,
     "metadata": {},
     "output_type": "execute_result"
    }
   ],
   "source": [
    "len(name)"
   ]
  },
  {
   "cell_type": "code",
   "execution_count": null,
   "id": "6b09f3c3",
   "metadata": {},
   "outputs": [],
   "source": []
  },
  {
   "cell_type": "code",
   "execution_count": null,
   "id": "4e252946",
   "metadata": {},
   "outputs": [],
   "source": []
  },
  {
   "cell_type": "code",
   "execution_count": null,
   "id": "8a683f57",
   "metadata": {},
   "outputs": [],
   "source": []
  },
  {
   "cell_type": "code",
   "execution_count": 39,
   "id": "b21934df",
   "metadata": {},
   "outputs": [],
   "source": [
    "def omolewa(x=10, y=30):\n",
    "    print(x * y)"
   ]
  },
  {
   "cell_type": "code",
   "execution_count": 40,
   "id": "2dd4714c",
   "metadata": {},
   "outputs": [
    {
     "name": "stdout",
     "output_type": "stream",
     "text": [
      "300\n"
     ]
    }
   ],
   "source": [
    "omolewa()"
   ]
  },
  {
   "cell_type": "code",
   "execution_count": null,
   "id": "43e9cc84",
   "metadata": {},
   "outputs": [],
   "source": []
  },
  {
   "cell_type": "code",
   "execution_count": null,
   "id": "41860101",
   "metadata": {},
   "outputs": [],
   "source": []
  },
  {
   "cell_type": "code",
   "execution_count": null,
   "id": "1b1d0033",
   "metadata": {},
   "outputs": [],
   "source": []
  },
  {
   "cell_type": "code",
   "execution_count": null,
   "id": "efbdeb4a",
   "metadata": {},
   "outputs": [],
   "source": []
  },
  {
   "cell_type": "code",
   "execution_count": null,
   "id": "baa17d22",
   "metadata": {},
   "outputs": [],
   "source": []
  },
  {
   "cell_type": "code",
   "execution_count": null,
   "id": "c852f458",
   "metadata": {},
   "outputs": [],
   "source": [
    "felix = 'Omolewa'"
   ]
  },
  {
   "cell_type": "code",
   "execution_count": null,
   "id": "106599b9",
   "metadata": {},
   "outputs": [],
   "source": []
  },
  {
   "cell_type": "code",
   "execution_count": null,
   "id": "7a27c808",
   "metadata": {},
   "outputs": [],
   "source": []
  },
  {
   "cell_type": "code",
   "execution_count": null,
   "id": "132bf9d3",
   "metadata": {},
   "outputs": [],
   "source": []
  },
  {
   "cell_type": "code",
   "execution_count": null,
   "id": "9f62425b",
   "metadata": {},
   "outputs": [],
   "source": []
  },
  {
   "cell_type": "code",
   "execution_count": null,
   "id": "aabcc83a",
   "metadata": {},
   "outputs": [],
   "source": []
  },
  {
   "cell_type": "code",
   "execution_count": null,
   "id": "09682bbd",
   "metadata": {},
   "outputs": [],
   "source": []
  },
  {
   "cell_type": "code",
   "execution_count": null,
   "id": "8cae93eb",
   "metadata": {},
   "outputs": [],
   "source": []
  }
 ],
 "metadata": {
  "kernelspec": {
   "display_name": "Python 3 (ipykernel)",
   "language": "python",
   "name": "python3"
  },
  "language_info": {
   "codemirror_mode": {
    "name": "ipython",
    "version": 3
   },
   "file_extension": ".py",
   "mimetype": "text/x-python",
   "name": "python",
   "nbconvert_exporter": "python",
   "pygments_lexer": "ipython3",
   "version": "3.9.7"
  }
 },
 "nbformat": 4,
 "nbformat_minor": 5
}
